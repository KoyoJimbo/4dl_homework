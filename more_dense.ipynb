{
 "cells": [
  {
   "cell_type": "code",
   "execution_count": 17,
   "metadata": {},
   "outputs": [],
   "source": [
    "def homework(train_X, train_y, test_X):\n",
    "    # ここにKerasのコードを書く. \n",
    "    import keras\n",
    "    from keras.models import Sequential\n",
    "    from keras.layers import Dense, Conv2D, MaxPooling2D, Flatten, Input, Activation\n",
    "    from keras.layers import advanced_activations\n",
    "    from keras.layers.core import Dropout\n",
    "     \n",
    "    def for_flat(model):\n",
    "        act = keras.layers.advanced_activations.PReLU()\n",
    "        model.add(Dense(120, kernel_initializer='he_normal'))\n",
    "        model.add(act)\n",
    "        return model\n",
    "        \n",
    "    model = Sequential()\n",
    "     # 入力画像 32x32x3  (縦の画素数)x(横の画素数)x(チャンネル数)\n",
    "     # 32x32x3 -> 28x28x8\n",
    "    model.add(Conv2D(8, kernel_size=(5, 5), activation='relu',input_shape=(32, 32, 3)))\n",
    "    model.add(MaxPooling2D(pool_size=(2, 2)))\n",
    "    # 28x28x8 -> 14x14x8\n",
    "    # 14x14x8 -> 10x10x8\n",
    "    # 10x10x8 -> 5x5x8\n",
    "    # 5x5x8 -> 200\n",
    "    model.add(Flatten())\n",
    "    model.add(Dense(512, activation='relu', kernel_initializer='he_normal'))  # 120 ->84\n",
    "    model.add(Dense(256, activation='relu', kernel_initializer='he_normal'))  # 120 ->84\n",
    "    model.add(Dense(128, activation='relu', kernel_initializer='he_normal'))  # 120 ->84\n",
    "    model.add(Dense(64, activation='relu', kernel_initializer='he_normal'))  # 120 ->84\n",
    "#    model = for_flat(model)\n",
    "    model.add(Dense(32, activation='tanh', kernel_initializer='he_normal'))  # 120 ->84\n",
    "#    model.add(Dropout(1.0))\n",
    "    model.add(Dense(10, activation='softmax'))  # 84 ->10\n",
    "    model.compile(loss=keras.losses.categorical_crossentropy, optimizer='adam')\n",
    "    \n",
    "    model.fit(x=train_X, y=train_y, batch_size=32, epochs=2, validation_split=0.1)\n",
    "    \n",
    "    pred_y = model.predict(test_X)\n",
    "    pred_y = np.argmax(pred_y, 1)\n",
    "    \n",
    "    return pred_y"
   ]
  },
  {
   "cell_type": "code",
   "execution_count": 19,
   "metadata": {},
   "outputs": [
    {
     "data": {
      "text/plain": [
       "1568"
      ]
     },
     "execution_count": 19,
     "metadata": {},
     "output_type": "execute_result"
    }
   ],
   "source": [
    "14*14*8\n",
    "# 上最高得点"
   ]
  },
  {
   "cell_type": "code",
   "execution_count": 20,
   "metadata": {},
   "outputs": [
    {
     "name": "stdout",
     "output_type": "stream",
     "text": [
      "Train on 45000 samples, validate on 5000 samples\n",
      "Epoch 1/2\n",
      "45000/45000 [==============================] - 162s 4ms/step - loss: 1.6807 - val_loss: 1.4854\n",
      "Epoch 2/2\n",
      "45000/45000 [==============================] - 175s 4ms/step - loss: 1.3581 - val_loss: 1.3088\n",
      "0.5195030333452563\n"
     ]
    }
   ],
   "source": [
    "import numpy as np\n",
    "\n",
    "from keras.datasets import cifar10\n",
    "from sklearn.model_selection import train_test_split\n",
    "from sklearn.metrics import f1_score\n",
    "\n",
    "random_state = 42\n",
    "\n",
    "def load_cifar():\n",
    "    (cifar_X_1, cifar_y_1), (cifar_X_2, cifar_y_2) = cifar10.load_data()\n",
    "\n",
    "    cifar_X = np.r_[cifar_X_1, cifar_X_2]\n",
    "    cifar_y = np.r_[cifar_y_1, cifar_y_2]\n",
    "\n",
    "    cifar_X = cifar_X.astype('float32') / 255\n",
    "    cifar_y = np.eye(10)[cifar_y.astype('int32').flatten()]\n",
    "\n",
    "    train_X, test_X, train_y, test_y = train_test_split(cifar_X, cifar_y,\n",
    "                                                        test_size=10000,\n",
    "                                                        random_state=42)\n",
    "\n",
    "    return (train_X, test_X, train_y, test_y)\n",
    "\n",
    "def score_homework():\n",
    "    global test_X, test_y, pred_y\n",
    "    train_X, test_X, train_y, test_y = load_cifar()\n",
    "    pred_y = homework(train_X, train_y, test_X)\n",
    "    print(f1_score(np.argmax(test_y, 1), pred_y, average='macro'))\n",
    "\n",
    "if __name__ == '__main__':\n",
    "    score_homework()"
   ]
  }
 ],
 "metadata": {
  "kernelspec": {
   "display_name": "Python 3",
   "language": "python",
   "name": "python3"
  },
  "language_info": {
   "codemirror_mode": {
    "name": "ipython",
    "version": 3
   },
   "file_extension": ".py",
   "mimetype": "text/x-python",
   "name": "python",
   "nbconvert_exporter": "python",
   "pygments_lexer": "ipython3",
   "version": "3.6.1"
  }
 },
 "nbformat": 4,
 "nbformat_minor": 2
}
